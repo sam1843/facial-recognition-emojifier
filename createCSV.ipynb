{
 "cells": [
  {
   "cell_type": "code",
   "execution_count": 2,
   "metadata": {},
   "outputs": [
    {
     "name": "stdout",
     "output_type": "stream",
     "text": [
      "Collecting opencv-python\n",
      "  Using cached opencv_python-4.5.5.64-cp36-abi3-win_amd64.whl (35.4 MB)\n",
      "Requirement already satisfied: numpy>=1.14.5; python_version >= \"3.7\" in c:\\users\\kusha\\anaconda3\\lib\\site-packages (from opencv-python) (1.19.2)\n",
      "Installing collected packages: opencv-python\n",
      "Successfully installed opencv-python-4.5.5.64\n",
      "Note: you may need to restart the kernel to use updated packages.\n"
     ]
    }
   ],
   "source": [
    "pip install opencv-python"
   ]
  },
  {
   "cell_type": "code",
   "execution_count": 168,
   "metadata": {},
   "outputs": [
    {
     "name": "stdout",
     "output_type": "stream",
     "text": [
      "135\n",
      "207\n",
      "84\n",
      "177\n",
      "54\n",
      "249\n",
      "75\n"
     ]
    }
   ],
   "source": [
    "import glob\n",
    "import cv2\n",
    "import numpy as np\n",
    "import csv\n",
    "\n",
    "emotions = {'0' : 'anger', '1' : 'happy', '2' : 'sadness', '3' : 'disgust', '4' : 'neutral', '5' : 'surprise', '6' : 'fear'}\n",
    "\n",
    "for key, value in emotions.items():\n",
    "    images = []\n",
    "    for file in glob.glob(f\"C:\\\\Users\\\\kusha\\\\OneDrive\\\\Desktop\\\\Emojifier\\\\Dataset\\\\CKplus\\\\CK+48\\\\{value}\\\\*.png\"):\n",
    "        # read and flatten images\n",
    "        img=cv2.imread(str(file))\n",
    "        img=cv2.cvtColor(img,cv2.COLOR_BGR2GRAY) \n",
    "        flatenImage = np.array(img).flatten()\n",
    "        images.append(flatenImage)\n",
    "        \n",
    "    print(len(images))\n",
    "    # save images in csv file\n",
    "    with open('ckplusData.csv', 'a') as file:\n",
    "        write = csv.writer(file)\n",
    "        for i in range(len(images)):\n",
    "            write.writerow((key,list(images[i])))\n",
    "            \n",
    "    file.close()\n",
    "\n",
    "    "
   ]
  },
  {
   "cell_type": "code",
   "execution_count": 169,
   "metadata": {},
   "outputs": [
    {
     "data": {
      "text/html": [
       "<div>\n",
       "<style scoped>\n",
       "    .dataframe tbody tr th:only-of-type {\n",
       "        vertical-align: middle;\n",
       "    }\n",
       "\n",
       "    .dataframe tbody tr th {\n",
       "        vertical-align: top;\n",
       "    }\n",
       "\n",
       "    .dataframe thead th {\n",
       "        text-align: right;\n",
       "    }\n",
       "</style>\n",
       "<table border=\"1\" class=\"dataframe\">\n",
       "  <thead>\n",
       "    <tr style=\"text-align: right;\">\n",
       "      <th></th>\n",
       "      <th>emotions</th>\n",
       "      <th>pixels</th>\n",
       "    </tr>\n",
       "  </thead>\n",
       "  <tbody>\n",
       "    <tr>\n",
       "      <th>0</th>\n",
       "      <td>0</td>\n",
       "      <td>24  10  13  16  8  12  17  22  29  24  13  2  ...</td>\n",
       "    </tr>\n",
       "    <tr>\n",
       "      <th>1</th>\n",
       "      <td>0</td>\n",
       "      <td>17  10  16  15  7  11  15  22  28  19  10  1  ...</td>\n",
       "    </tr>\n",
       "    <tr>\n",
       "      <th>2</th>\n",
       "      <td>0</td>\n",
       "      <td>27  13  10  15  11  8  14  17  29  24  15  3  ...</td>\n",
       "    </tr>\n",
       "    <tr>\n",
       "      <th>3</th>\n",
       "      <td>0</td>\n",
       "      <td>36  32  17  15  17  20  29  45  58  70  85  92...</td>\n",
       "    </tr>\n",
       "    <tr>\n",
       "      <th>4</th>\n",
       "      <td>0</td>\n",
       "      <td>31  39  19  16  19  22  27  35  48  66  84  94...</td>\n",
       "    </tr>\n",
       "    <tr>\n",
       "      <th>...</th>\n",
       "      <td>...</td>\n",
       "      <td>...</td>\n",
       "    </tr>\n",
       "    <tr>\n",
       "      <th>976</th>\n",
       "      <td>6</td>\n",
       "      <td>202  202  202  204  142  68  64  66  63  61  6...</td>\n",
       "    </tr>\n",
       "    <tr>\n",
       "      <th>977</th>\n",
       "      <td>6</td>\n",
       "      <td>203  202  203  204  153  74  63  66  62  62  6...</td>\n",
       "    </tr>\n",
       "    <tr>\n",
       "      <th>978</th>\n",
       "      <td>6</td>\n",
       "      <td>48  48  38  42  56  49  34  34  34  49  69  81...</td>\n",
       "    </tr>\n",
       "    <tr>\n",
       "      <th>979</th>\n",
       "      <td>6</td>\n",
       "      <td>50  46  35  47  57  45  33  33  37  53  71  85...</td>\n",
       "    </tr>\n",
       "    <tr>\n",
       "      <th>980</th>\n",
       "      <td>6</td>\n",
       "      <td>50  47  35  44  57  48  33  34  34  49  69  83...</td>\n",
       "    </tr>\n",
       "  </tbody>\n",
       "</table>\n",
       "<p>981 rows × 2 columns</p>\n",
       "</div>"
      ],
      "text/plain": [
       "     emotions                                             pixels\n",
       "0           0  24  10  13  16  8  12  17  22  29  24  13  2  ...\n",
       "1           0  17  10  16  15  7  11  15  22  28  19  10  1  ...\n",
       "2           0  27  13  10  15  11  8  14  17  29  24  15  3  ...\n",
       "3           0  36  32  17  15  17  20  29  45  58  70  85  92...\n",
       "4           0  31  39  19  16  19  22  27  35  48  66  84  94...\n",
       "..        ...                                                ...\n",
       "976         6  202  202  202  204  142  68  64  66  63  61  6...\n",
       "977         6  203  202  203  204  153  74  63  66  62  62  6...\n",
       "978         6  48  48  38  42  56  49  34  34  34  49  69  81...\n",
       "979         6  50  46  35  47  57  45  33  33  37  53  71  85...\n",
       "980         6  50  47  35  44  57  48  33  34  34  49  69  83...\n",
       "\n",
       "[981 rows x 2 columns]"
      ]
     },
     "execution_count": 169,
     "metadata": {},
     "output_type": "execute_result"
    }
   ],
   "source": [
    "import pandas as pd\n",
    "\n",
    "data = pd.read_csv('ckplusData.csv')\n",
    "data"
   ]
  },
  {
   "cell_type": "code",
   "execution_count": 171,
   "metadata": {},
   "outputs": [
    {
     "data": {
      "text/plain": [
       "5    249\n",
       "1    207\n",
       "3    177\n",
       "0    135\n",
       "2     84\n",
       "6     75\n",
       "4     54\n",
       "Name: emotions, dtype: int64"
      ]
     },
     "execution_count": 171,
     "metadata": {},
     "output_type": "execute_result"
    }
   ],
   "source": [
    "data['emotions'].value_counts()"
   ]
  },
  {
   "cell_type": "code",
   "execution_count": null,
   "metadata": {},
   "outputs": [],
   "source": []
  },
  {
   "cell_type": "code",
   "execution_count": null,
   "metadata": {},
   "outputs": [],
   "source": []
  }
 ],
 "metadata": {
  "kernelspec": {
   "display_name": "Python 3",
   "language": "python",
   "name": "python3"
  },
  "language_info": {
   "codemirror_mode": {
    "name": "ipython",
    "version": 3
   },
   "file_extension": ".py",
   "mimetype": "text/x-python",
   "name": "python",
   "nbconvert_exporter": "python",
   "pygments_lexer": "ipython3",
   "version": "3.8.5"
  }
 },
 "nbformat": 4,
 "nbformat_minor": 4
}
